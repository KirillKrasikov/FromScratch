{
 "cells": [
  {
   "cell_type": "code",
   "execution_count": 1,
   "metadata": {},
   "outputs": [],
   "source": [
    "import tensorflow.compat.v1 as tf\n",
    "from tensorflow import keras\n",
    "\n",
    "from tensorflow.keras.datasets import mnist\n",
    "from tensorflow.keras.models import Sequential\n",
    "from tensorflow.keras.layers import Dense"
   ]
  },
  {
   "cell_type": "code",
   "execution_count": 2,
   "metadata": {},
   "outputs": [],
   "source": [
    "(x_train, y_train), (x_test, y_test) = mnist.load_data()"
   ]
  },
  {
   "cell_type": "code",
   "execution_count": 3,
   "metadata": {},
   "outputs": [],
   "source": [
    "x_train = x_train.reshape(60000, 784)\n",
    "x_test = x_test.reshape(10000, 784)\n",
    "x_train = x_train.astype('float32')\n",
    "x_test = x_test.astype('float32')\n",
    "x_train /= 255\n",
    "x_test /=255\n",
    "y_train = keras.utils.to_categorical(y_train, 10)\n",
    "y_test = keras.utils.to_categorical(y_test, 10)"
   ]
  },
  {
   "cell_type": "code",
   "execution_count": 4,
   "metadata": {},
   "outputs": [
    {
     "name": "stdout",
     "output_type": "stream",
     "text": [
      "Model: \"sequential\"\n",
      "_________________________________________________________________\n",
      "Layer (type)                 Output Shape              Param #   \n",
      "=================================================================\n",
      "dense (Dense)                (None, 392)               307720    \n",
      "_________________________________________________________________\n",
      "dense_1 (Dense)              (None, 196)               77028     \n",
      "_________________________________________________________________\n",
      "dense_2 (Dense)              (None, 10)                1970      \n",
      "=================================================================\n",
      "Total params: 386,718\n",
      "Trainable params: 386,718\n",
      "Non-trainable params: 0\n",
      "_________________________________________________________________\n"
     ]
    }
   ],
   "source": [
    "model = Sequential()\n",
    "model.add(Dense(392, activation='sigmoid', input_shape=(784,)))\n",
    "model.add(Dense(196, activation='sigmoid'))\n",
    "model.add(Dense(10, activation='sigmoid'))\n",
    "model.summary()"
   ]
  },
  {
   "cell_type": "code",
   "execution_count": 5,
   "metadata": {},
   "outputs": [],
   "source": [
    "model.compile(loss='mean_squared_error', optimizer='sgd', metrics=['accuracy'])"
   ]
  },
  {
   "cell_type": "code",
   "execution_count": 6,
   "metadata": {},
   "outputs": [
    {
     "name": "stdout",
     "output_type": "stream",
     "text": [
      "Epoch 1/20\n",
      "469/469 [==============================] - 1s 1ms/step - loss: 0.1222 - accuracy: 0.1178\n",
      "Epoch 2/20\n",
      "469/469 [==============================] - 1s 1ms/step - loss: 0.0914 - accuracy: 0.1020\n",
      "Epoch 3/20\n",
      "469/469 [==============================] - 1s 1ms/step - loss: 0.0901 - accuracy: 0.0984\n",
      "Epoch 4/20\n",
      "469/469 [==============================] - 1s 1ms/step - loss: 0.0899 - accuracy: 0.1057\n",
      "Epoch 5/20\n",
      "469/469 [==============================] - 1s 1ms/step - loss: 0.0898 - accuracy: 0.1136\n",
      "Epoch 6/20\n",
      "469/469 [==============================] - 0s 1ms/step - loss: 0.0898 - accuracy: 0.1182\n",
      "Epoch 7/20\n",
      "469/469 [==============================] - 0s 1ms/step - loss: 0.0897 - accuracy: 0.1218\n",
      "Epoch 8/20\n",
      "469/469 [==============================] - 0s 1ms/step - loss: 0.0897 - accuracy: 0.1236\n",
      "Epoch 9/20\n",
      "469/469 [==============================] - 0s 1ms/step - loss: 0.0897 - accuracy: 0.1282\n",
      "Epoch 10/20\n",
      "469/469 [==============================] - 1s 1ms/step - loss: 0.0897 - accuracy: 0.1295\n",
      "Epoch 11/20\n",
      "469/469 [==============================] - 0s 1ms/step - loss: 0.0896 - accuracy: 0.1293\n",
      "Epoch 12/20\n",
      "469/469 [==============================] - 1s 1ms/step - loss: 0.0896 - accuracy: 0.1297\n",
      "Epoch 13/20\n",
      "469/469 [==============================] - 0s 1ms/step - loss: 0.0896 - accuracy: 0.1376\n",
      "Epoch 14/20\n",
      "469/469 [==============================] - 1s 1ms/step - loss: 0.0896 - accuracy: 0.1335\n",
      "Epoch 15/20\n",
      "469/469 [==============================] - 1s 1ms/step - loss: 0.0895 - accuracy: 0.1368\n",
      "Epoch 16/20\n",
      "469/469 [==============================] - 1s 1ms/step - loss: 0.0895 - accuracy: 0.1385\n",
      "Epoch 17/20\n",
      "469/469 [==============================] - 1s 1ms/step - loss: 0.0895 - accuracy: 0.1416\n",
      "Epoch 18/20\n",
      "469/469 [==============================] - 1s 1ms/step - loss: 0.0895 - accuracy: 0.1413\n",
      "Epoch 19/20\n",
      "469/469 [==============================] - 1s 1ms/step - loss: 0.0895 - accuracy: 0.1465\n",
      "Epoch 20/20\n",
      "469/469 [==============================] - 1s 1ms/step - loss: 0.0894 - accuracy: 0.1424\n"
     ]
    },
    {
     "data": {
      "text/plain": [
       "<tensorflow.python.keras.callbacks.History at 0x7fe044e6d430>"
      ]
     },
     "execution_count": 6,
     "metadata": {},
     "output_type": "execute_result"
    }
   ],
   "source": [
    "model.fit(x_train, y_train, batch_size=128, epochs=20)"
   ]
  },
  {
   "cell_type": "code",
   "execution_count": 7,
   "metadata": {},
   "outputs": [
    {
     "name": "stdout",
     "output_type": "stream",
     "text": [
      "Device mapping:\n",
      "/job:localhost/replica:0/task:0/device:XLA_CPU:0 -> device: XLA_CPU device\n",
      "/job:localhost/replica:0/task:0/device:XLA_GPU:0 -> device: XLA_GPU device\n",
      "/job:localhost/replica:0/task:0/device:GPU:0 -> device: 0, name: GeForce RTX 2060, pci bus id: 0000:01:00.0, compute capability: 7.5\n",
      "\n"
     ]
    }
   ],
   "source": [
    "sess = tf.Session(config=tf.ConfigProto(log_device_placement=True))"
   ]
  },
  {
   "cell_type": "code",
   "execution_count": null,
   "metadata": {},
   "outputs": [],
   "source": []
  }
 ],
 "metadata": {
  "kernelspec": {
   "display_name": "Python 3",
   "language": "python",
   "name": "python3"
  },
  "language_info": {
   "codemirror_mode": {
    "name": "ipython",
    "version": 3
   },
   "file_extension": ".py",
   "mimetype": "text/x-python",
   "name": "python",
   "nbconvert_exporter": "python",
   "pygments_lexer": "ipython3",
   "version": "3.8.5"
  }
 },
 "nbformat": 4,
 "nbformat_minor": 4
}
